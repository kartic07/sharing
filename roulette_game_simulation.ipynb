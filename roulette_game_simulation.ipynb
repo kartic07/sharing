{
 "cells": [
  {
   "cell_type": "code",
   "execution_count": null,
   "metadata": {},
   "outputs": [],
   "source": [
    "totalAmount = 1000 # total amount to start the game\n",
    "print(\"Welcome! You have\", totalAmount)\n",
    "\n",
    "while totalAmount > 0:\n",
    "    \n",
    "    betAmount = int(input(\"How much money do you want to bet? \")) # take users input on how much amount to bet\n",
    "    while betAmount > totalAmount or betAmount < 0:\n",
    "        print(\"You can't bet that amount.\") # if the amount entered is greater than the total amount\n",
    "        betAmount = int(input(\"\\nSo, how much money do you want to bet? \"))\n",
    "     \n",
    "    playersNumber = int(input(\"What's the number you want to bet on? \")) # take users input on what number to bet on\n",
    "    while playersNumber > 49 or playersNumber < 0:\n",
    "        print(\"The number should be between 0 and 49.\") # if the number entered is not between 0 and 49\n",
    "        playersNumber = int(input(\"\\nSo, on which you want to bet? \"))\n",
    "    \n",
    "    import random\n",
    "    number = random.randint(0, 49) # random number\n",
    "    print(\"The number is \", number)\n",
    "    \n",
    "    if playersNumber == number:\n",
    "        totalAmount = totalAmount - betAmount + (betAmount*50)\n",
    "        print(\"Congratulations!! You have won \", betAmount*50)\n",
    "        print(\"\\nTotal amount is:\", totalAmount)\n",
    "    else:\n",
    "        totalAmount = totalAmount - betAmount\n",
    "        print(\"Sorry!! But you have lost the bet. Remaining amount is: \", totalAmount)\n",
    "    continue\n",
    "    \n",
    "print(\"You have no amount left. GAME OVER!!!\")\n"
   ]
  }
 ],
 "metadata": {
  "kernelspec": {
   "display_name": "Python 3",
   "language": "python",
   "name": "python3"
  },
  "language_info": {
   "codemirror_mode": {
    "name": "ipython",
    "version": 3
   },
   "file_extension": ".py",
   "mimetype": "text/x-python",
   "name": "python",
   "nbconvert_exporter": "python",
   "pygments_lexer": "ipython3",
   "version": "3.8.3"
  }
 },
 "nbformat": 4,
 "nbformat_minor": 4
}
